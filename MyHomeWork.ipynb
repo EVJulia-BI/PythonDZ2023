{
 "cells": [
  {
   "cell_type": "markdown",
   "id": "e10e0075",
   "metadata": {},
   "source": [
    "## f(x) = x^3 - 6x^2 + 4x + 12\n",
    "### Определить корни\n",
    "### Найти интервалы, на которых функция возрастает\n",
    "### Найти интервалы, на которых функция убывает\n",
    "### Построить график\n",
    "### Вычислить вершину\n",
    "### Определить промежутки, на котором f > 0\n",
    "### Определить промежутки, на котором f < 0\n",
    "### Оформить работу с заголовками в Markdown."
   ]
  },
  {
   "cell_type": "code",
   "execution_count": 1,
   "id": "7b94840e",
   "metadata": {},
   "outputs": [
    {
     "data": {
      "text/plain": [
       "[6.4, 4.8]"
      ]
     },
     "execution_count": 1,
     "metadata": {},
     "output_type": "execute_result"
    }
   ],
   "source": [
    "from sympy import symbols, solve\n",
    "import matplotlib.pyplot as plt\n",
    "import matplotlib as mp1\n",
    "from pylab import rcParams\n",
    "rcParams ['figure.figsize']"
   ]
  },
  {
   "cell_type": "code",
   "execution_count": 2,
   "id": "c2d28d44",
   "metadata": {},
   "outputs": [],
   "source": [
    "import numpy as np"
   ]
  },
  {
   "cell_type": "code",
   "execution_count": 3,
   "id": "935b7f02",
   "metadata": {},
   "outputs": [
    {
     "data": {
      "text/plain": [
       "[2 - 8/((-1/2 - sqrt(3)*I/2)*(54 + 6*sqrt(303)*I)**(1/3)) - (-1/2 - sqrt(3)*I/2)*(54 + 6*sqrt(303)*I)**(1/3)/3,\n",
       " 2 - (-1/2 + sqrt(3)*I/2)*(54 + 6*sqrt(303)*I)**(1/3)/3 - 8/((-1/2 + sqrt(3)*I/2)*(54 + 6*sqrt(303)*I)**(1/3)),\n",
       " 2 - (54 + 6*sqrt(303)*I)**(1/3)/3 - 8/(54 + 6*sqrt(303)*I)**(1/3)]"
      ]
     },
     "execution_count": 3,
     "metadata": {},
     "output_type": "execute_result"
    }
   ],
   "source": [
    "x = symbols (\"x\")\n",
    "solve(x**3-6*x**2+4*x+12, x)"
   ]
  },
  {
   "cell_type": "code",
   "execution_count": 4,
   "id": "4818c694",
   "metadata": {},
   "outputs": [
    {
     "data": {
      "text/plain": [
       "[CRootOf(x**3 - 6*x**2 + 4*x + 12, 0),\n",
       " CRootOf(x**3 - 6*x**2 + 4*x + 12, 1),\n",
       " CRootOf(x**3 - 6*x**2 + 4*x + 12, 2)]"
      ]
     },
     "execution_count": 4,
     "metadata": {},
     "output_type": "execute_result"
    }
   ],
   "source": [
    "solve(x**3-6*x**2+4*x+12, x, cubics=False)"
   ]
  },
  {
   "cell_type": "markdown",
   "id": "31cb92cc",
   "metadata": {},
   "source": [
    "### Применим библиотеку numpy"
   ]
  },
  {
   "cell_type": "code",
   "execution_count": 5,
   "id": "b3932480",
   "metadata": {},
   "outputs": [
    {
     "data": {
      "text/plain": [
       "array([ 4.5340702 ,  2.51730405, -1.05137424])"
      ]
     },
     "execution_count": 5,
     "metadata": {},
     "output_type": "execute_result"
    }
   ],
   "source": [
    "np.roots ([1,-6,4,12])"
   ]
  },
  {
   "cell_type": "markdown",
   "id": "897a7d81",
   "metadata": {},
   "source": [
    "### Определяем промежутки, на которых f>0 и f<0"
   ]
  },
  {
   "cell_type": "code",
   "execution_count": 6,
   "id": "6840d158",
   "metadata": {},
   "outputs": [],
   "source": [
    "x1,x2,x3 = np.roots([1,-6,4,12])"
   ]
  },
  {
   "cell_type": "code",
   "execution_count": 7,
   "id": "a375b82a",
   "metadata": {},
   "outputs": [
    {
     "name": "stdout",
     "output_type": "stream",
     "text": [
      "Функция больше нуля: (-inf; -1.0514) & (2.5173; 4.5341)\n",
      "Функция меньше нуля: (-1.0514; 2.5173) & (4.5341; + inf \n"
     ]
    }
   ],
   "source": [
    "print(f'Функция больше нуля: (-inf; {round(x3, 4)}) & ({round(x2, 4)}; {round(x1, 4)})')\n",
    "print(f'Функция меньше нуля: ({round(x3,4)}; {round(x2,4)}) & ({round(x1,4)}; + inf ')"
   ]
  },
  {
   "cell_type": "markdown",
   "id": "6c643335",
   "metadata": {},
   "source": [
    "### Строим график"
   ]
  },
  {
   "cell_type": "code",
   "execution_count": 8,
   "id": "fbb71583",
   "metadata": {},
   "outputs": [],
   "source": [
    "x=list(range(-3,7))\n",
    "fx=[i**3-6*(i**2)+4*i+12 for i in x]\n"
   ]
  },
  {
   "cell_type": "code",
   "execution_count": 9,
   "id": "7f34bcc3",
   "metadata": {},
   "outputs": [
    {
     "data": {
      "text/plain": [
       "<function matplotlib.pyplot.show(close=None, block=None)>"
      ]
     },
     "execution_count": 9,
     "metadata": {},
     "output_type": "execute_result"
    },
    {
     "data": {
      "image/png": "[encoded data removed]",
      "text/plain": [
       "<Figure size 640x480 with 1 Axes>"
      ]
     },
     "metadata": {},
     "output_type": "display_data"
    }
   ],
   "source": [
    "plt.plot(x,fx)\n",
    "ax = plt.gca()\n",
    "ax.spines['left'].set_position('zero')\n",
    "ax.spines['bottom'].set_position('zero')\n",
    "ax.spines['top'].set_visible(False)\n",
    "ax.spines['right'].set_visible(False)\n",
    "plt.show"
   ]
  },
  {
   "cell_type": "markdown",
   "id": "0063839e",
   "metadata": {},
   "source": [
    "### Рассчитаем вершину"
   ]
  },
  {
   "cell_type": "code",
   "execution_count": 10,
   "id": "10a93545",
   "metadata": {},
   "outputs": [
    {
     "data": {
      "text/plain": [
       "array([  3, -12,   4])"
      ]
     },
     "execution_count": 10,
     "metadata": {},
     "output_type": "execute_result"
    }
   ],
   "source": [
    "np.polyder([1,-6,4,12])"
   ]
  },
  {
   "cell_type": "code",
   "execution_count": 11,
   "id": "748a22f2",
   "metadata": {},
   "outputs": [
    {
     "data": {
      "text/plain": [
       "array([3.63299316, 0.36700684])"
      ]
     },
     "execution_count": 11,
     "metadata": {},
     "output_type": "execute_result"
    }
   ],
   "source": [
    "np.roots(np.polyder([1,-6,4,12]))"
   ]
  },
  {
   "cell_type": "code",
   "execution_count": 12,
   "id": "f7b4712b",
   "metadata": {},
   "outputs": [
    {
     "data": {
      "text/plain": [
       "(0.3670068381445479, 3.6329931618554525)"
      ]
     },
     "execution_count": 12,
     "metadata": {},
     "output_type": "execute_result"
    }
   ],
   "source": [
    "max_point = np.roots(np.polyder([1,-6,4,12]))[1]\n",
    "min_point = np.roots(np.polyder([1,-6,4,12]))[0]\n",
    "max_point, min_point"
   ]
  },
  {
   "cell_type": "code",
   "execution_count": 13,
   "id": "05693c57",
   "metadata": {},
   "outputs": [
    {
     "data": {
      "text/plain": [
       "12.709296863229078"
      ]
     },
     "execution_count": 13,
     "metadata": {},
     "output_type": "execute_result"
    }
   ],
   "source": [
    "y_max_point = np.polyval([1,-6,4,12], max_point)\n",
    "y_max_point"
   ]
  },
  {
   "cell_type": "code",
   "execution_count": 14,
   "id": "9305cba2",
   "metadata": {},
   "outputs": [
    {
     "data": {
      "text/plain": [
       "-4.709296863229078"
      ]
     },
     "execution_count": 14,
     "metadata": {},
     "output_type": "execute_result"
    }
   ],
   "source": [
    "y_min_point = np.polyval([1,-6,4,12], min_point)\n",
    "y_min_point"
   ]
  },
  {
   "cell_type": "code",
   "execution_count": 15,
   "id": "3a5a026e",
   "metadata": {},
   "outputs": [
    {
     "name": "stdout",
     "output_type": "stream",
     "text": [
      "Точка максимума: (0.3670068381445479, 12.709296863229078)\n",
      "Точка миниммума: (3.6329931618554525, -4.709296863229078)\n"
     ]
    }
   ],
   "source": [
    "print(f'Точка максимума: {max_point, y_max_point}')\n",
    "print(f'Точка миниммума: {min_point, y_min_point}')"
   ]
  },
  {
   "cell_type": "code",
   "execution_count": null,
   "id": "ca6af816",
   "metadata": {},
   "outputs": [],
   "source": []
  }
 ],
 "metadata": {
  "kernelspec": {
   "display_name": "Python 3",
   "language": "python",
   "name": "python3"
  },
  "language_info": {
   "codemirror_mode": {
    "name": "ipython",
    "version": 3
   },
   "file_extension": ".py",
   "mimetype": "text/x-python",
   "name": "python",
   "nbconvert_exporter": "python",
   "pygments_lexer": "ipython3",
   "version": "3.11.0"
  },
  "vscode": {
   "interpreter": {
    "hash": "9ef8949628151a7394de96f107a3a3232dec7714cc7b5f69670ee3d82dcee8e2"
   }
  }
 },
 "nbformat": 4,
 "nbformat_minor": 5
}
